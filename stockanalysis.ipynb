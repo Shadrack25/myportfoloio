{
  "nbformat": 4,
  "nbformat_minor": 0,
  "metadata": {
    "colab": {
      "provenance": [],
      "authorship_tag": "ABX9TyMpRDGwhhD/XrfLBCd+sLDn",
      "include_colab_link": true
    },
    "kernelspec": {
      "name": "python3",
      "display_name": "Python 3"
    },
    "language_info": {
      "name": "python"
    }
  },
  "cells": [
    {
      "cell_type": "markdown",
      "metadata": {
        "id": "view-in-github",
        "colab_type": "text"
      },
      "source": [
        "<a href=\"https://colab.research.google.com/github/Shadrack25/myportfoloio/blob/master/stockanalysis.ipynb\" target=\"_parent\"><img src=\"https://colab.research.google.com/assets/colab-badge.svg\" alt=\"Open In Colab\"/></a>"
      ]
    },
    {
      "cell_type": "markdown",
      "source": [
        "**Import** **Libraries**"
      ],
      "metadata": {
        "id": "O08MimIKATUW"
      }
    },
    {
      "cell_type": "code",
      "execution_count": 1,
      "metadata": {
        "id": "Re6YotllAG5N"
      },
      "outputs": [],
      "source": [
        "import json\n",
        "\n",
        "#For DataFrame\n",
        "import pandas as pd\n",
        "import numpy as np"
      ]
    },
    {
      "cell_type": "markdown",
      "source": [
        "**Configuration**"
      ],
      "metadata": {
        "id": "17htDfRaAiz8"
      }
    },
    {
      "cell_type": "code",
      "source": [
        "#List of stock symbols we need to run fundamental analysis on- any symbol added here must have the json file containing stock info from yahoo finance\n",
        "SYMBOLS = ['INTU','CDNS','WDAY','ROP','TEAM','ADSK','DDOG','ANSS','ZM','PTC','BSY','GRAB','SSNC','APP','AZPN','MANH','ZI','NICE' ]\n",
        "#Path to read stock data from YF\n",
        "DATA_PATH = 'path to access json files'\n",
        "#Dictionary to collect data to create a DF later\n",
        "data = {\n",
        "    'Symbol': [],\n",
        "    'Name': [],\n",
        "    'Industry': [],\n",
        "    'EPS (fwd)': [],\n",
        "    'P/E (fwd)': [],\n",
        "    'PEG': [],\n",
        "    'FCFY': [],\n",
        "    'PB': [],\n",
        "    'ROE': [],\n",
        "    'P/S (trail)': [],\n",
        "    'DPR': [],\n",
        "    'DY': [],\n",
        "    'CR': [],\n",
        "    'Beta': [],\n",
        "    'Price': [],\n",
        "    '52W Low': [],\n",
        "    '52W High': []\n",
        "}"
      ],
      "metadata": {
        "id": "0brf4mLZAxZm"
      },
      "execution_count": 2,
      "outputs": []
    },
    {
      "cell_type": "markdown",
      "source": [
        "**Loads** **data**"
      ],
      "metadata": {
        "id": "G4j_XhrqDN8L"
      }
    },
    {
      "cell_type": "code",
      "source": [
        "#This is a utility method to extract indicators from the given json data and populate data dictionary\n",
        "def load_data(json_data) :\n",
        "  data['Symbol'].append(json_data['symbol'])\n",
        "  data['Name'].append(json_data['longName'])\n",
        "  data['Industry'].append(json_data['industry'])\n",
        "  data['Price'].append(json_data['currentPrice'])\n",
        "\n",
        "  #Could be that some indicators are not available; use Nan if this is the case\n",
        "\n",
        "  if 'forwardEPS' in json_data:\n",
        "    data['EPS (fwd)'].append(json_data['forwardEPS'])\n",
        "  else:\n",
        "    data['EPS (fwd)'].append(np.nan)\n",
        "\n",
        "  if 'forwardPE' in json_data:\n",
        "    data['P/E (fwd)'].append(json_data['forwardPE'])\n",
        "  else:\n",
        "    data['P/E (fwd)'].append(np.nan)\n",
        "\n",
        "  if 'pegRatio' in json_data:\n",
        "    data['PEG'].append(json_data['pegRatio'])\n",
        "  else:\n",
        "    data['PEG'].append(np.nan)\n",
        "\n",
        "  if ('freeCashflow' in json_data) and ('marketCap' in json_data):\n",
        "    fcfy = (json_data['freeCashflow']/json_data['marketCap']) * 100\n",
        "    data['FCFY'].append(round(fcfy, 2))\n",
        "  else:\n",
        "    data['FCFY'].append(np.nan)\n",
        "\n",
        "  if 'priceToBook' in json_data:\n",
        "    data['PB'].append(json_data['priceToBook'])\n",
        "  else:\n",
        "    data['PB'].append(np.nan)\n",
        "\n",
        "  if 'returnOnEquity' in json_data:\n",
        "    data['ROE'].append(json_data['returnOnEquity'])\n",
        "  else:\n",
        "    data['ROE'].append(np.nan)\n",
        "\n",
        "  if 'priceToSalesTrailing12Months' in json_data:\n",
        "    data['P/S (trail)'].append(json_data['priceToSalesTrailing12Months'])\n",
        "  else:\n",
        "    data['P/S (trail)'].append(np.nan)\n",
        "\n",
        "  if 'payoutRatio' in json_data:\n",
        "    data['DPR'].append(json_data['payoutRatio'] * 100)\n",
        "  else:\n",
        "    data['DPR'].append(np.nan)\n",
        "\n",
        "  if 'dividendYield' in json_data:\n",
        "    data['DY'].append(json_data['dividendYield'])\n",
        "  else:\n",
        "    data['DY'].append(0.0)\n",
        "\n",
        "  if 'beta' in json_data:\n",
        "    data['Beta'].append(json_data['beta'])\n",
        "  else:\n",
        "    data['Beta'].append(np.nan)\n",
        "\n",
        "  if 'currentRatio' in json_data:\n",
        "    data['CR'].append(json_data['currentRatio'])\n",
        "  else:\n",
        "    data['CR'].append(np.nan)\n",
        "\n",
        "  if 'fiftyTwoWeekLow' in json_data:\n",
        "    data['52W Low'].append(json_data['fiftyTwoWeekLow'])\n",
        "  else:\n",
        "    data['52W Low'].append(np.nan)\n",
        "\n",
        "  if 'fiftyTwoWeekHigh' in json_data:\n",
        "    data['52W High'].append(json_data['fiftyTwoWeekHigh'])\n",
        "  else:\n",
        "    data['52W High'].append(np.nan)\n",
        "\n"
      ],
      "metadata": {
        "id": "Dn_gqmkPDSmh"
      },
      "execution_count": 3,
      "outputs": []
    },
    {
      "cell_type": "markdown",
      "source": [
        "**Load** **stock** **data** **from** **json** **files**"
      ],
      "metadata": {
        "id": "1e5EHuADKnZ6"
      }
    },
    {
      "cell_type": "code",
      "source": [
        "for symbol in SYMBOLS:\n",
        "  #specify the full path to load JSON data\n",
        "  file_name = f'{DATA_PATH}/{symbol}.json'\n",
        "  try:\n",
        "    #Open the fie in read mode\n",
        "    with open(file_name, 'r') as file:\n",
        "      #Use json.load() to parse the JSON DATA from the file\n",
        "      load_data(json.load(file))\n",
        "  except FileNotFoundError:\n",
        "    print(f\"File '{file_name}' not found.\")\n",
        "  except json.JSONDecodeError as e:\n",
        "    print(f\"Error decoding JSON data: {e}\")\n",
        "  except Exception as e:\n",
        "    print(f\"An error occurred: {e}\")\n",
        "\n",
        "#Loops throug the SYMBOLS declared in the configuration section and calls the load_dsata method to poplulate the data dictionary"
      ],
      "metadata": {
        "colab": {
          "base_uri": "https://localhost:8080/"
        },
        "id": "6EKw0OvtKxAK",
        "outputId": "72d18614-fd72-40e5-d02a-6534d3f82478"
      },
      "execution_count": 4,
      "outputs": [
        {
          "output_type": "stream",
          "name": "stdout",
          "text": [
            "File 'path to access json files/INTU.json' not found.\n",
            "File 'path to access json files/CDNS.json' not found.\n",
            "File 'path to access json files/WDAY.json' not found.\n",
            "File 'path to access json files/ROP.json' not found.\n",
            "File 'path to access json files/TEAM.json' not found.\n",
            "File 'path to access json files/ADSK.json' not found.\n",
            "File 'path to access json files/DDOG.json' not found.\n",
            "File 'path to access json files/ANSS.json' not found.\n",
            "File 'path to access json files/ZM.json' not found.\n",
            "File 'path to access json files/PTC.json' not found.\n",
            "File 'path to access json files/BSY.json' not found.\n",
            "File 'path to access json files/GRAB.json' not found.\n",
            "File 'path to access json files/SSNC.json' not found.\n",
            "File 'path to access json files/APP.json' not found.\n",
            "File 'path to access json files/AZPN.json' not found.\n",
            "File 'path to access json files/MANH.json' not found.\n",
            "File 'path to access json files/ZI.json' not found.\n",
            "File 'path to access json files/NICE.json' not found.\n"
          ]
        }
      ]
    },
    {
      "cell_type": "markdown",
      "source": [
        "**Create** **a** **Data** **Frame**\n",
        "Any stock with NaN value for an indicator is moved to separate data frame.\n"
      ],
      "metadata": {
        "id": "wb98ITJeNALV"
      }
    },
    {
      "cell_type": "code",
      "source": [
        "#We also add a new column to allow for subsequent visualization via styles to show which stocks are near their 52week low and which are near 52week High\n",
        "#A score of 90 indicates the present price is very near its 52 week high\n",
        "\n",
        "#Create a DF using the dictionary\n",
        "df = pd.DataFrame(data)\n",
        "#Save any stocks with NaN values\n",
        "df_exceptions = df[df.isna().any(axis=1)]\n",
        "#Remove any stocks with NaN values\n",
        "df=df.dropna()\n",
        "#Reset index after dropping rowswith Nan values\n",
        "df.reset_index(drop=True, inplace=True)\n",
        "#Add 52 week price range\n",
        "df['52w Range'] = ((df['Price'] - df['52W Low']) / (df['52W High'] - df['52W Low']))*100\n",
        "\n",
        "df_exceptions"
      ],
      "metadata": {
        "colab": {
          "base_uri": "https://localhost:8080/",
          "height": 139
        },
        "id": "pIDfPAXKNSqi",
        "outputId": "0c0b9fce-b6c6-48c7-a7bd-c4dd1967df1c"
      },
      "execution_count": 11,
      "outputs": [
        {
          "output_type": "execute_result",
          "data": {
            "text/plain": [
              "Empty DataFrame\n",
              "Columns: [symbol, Name, Industry, EPS (fwd), P/E (fwd), PEG, FCFY, PB, ROE, P/S (trail), DPR, DY, CR, Beta, Price, 52W Low, 52W High]\n",
              "Index: []"
            ],
            "text/html": [
              "\n",
              "  <div id=\"df-21f0940b-fbab-4c58-9a67-b7b64c2a0e9e\" class=\"colab-df-container\">\n",
              "    <div>\n",
              "<style scoped>\n",
              "    .dataframe tbody tr th:only-of-type {\n",
              "        vertical-align: middle;\n",
              "    }\n",
              "\n",
              "    .dataframe tbody tr th {\n",
              "        vertical-align: top;\n",
              "    }\n",
              "\n",
              "    .dataframe thead th {\n",
              "        text-align: right;\n",
              "    }\n",
              "</style>\n",
              "<table border=\"1\" class=\"dataframe\">\n",
              "  <thead>\n",
              "    <tr style=\"text-align: right;\">\n",
              "      <th></th>\n",
              "      <th>symbol</th>\n",
              "      <th>Name</th>\n",
              "      <th>Industry</th>\n",
              "      <th>EPS (fwd)</th>\n",
              "      <th>P/E (fwd)</th>\n",
              "      <th>PEG</th>\n",
              "      <th>FCFY</th>\n",
              "      <th>PB</th>\n",
              "      <th>ROE</th>\n",
              "      <th>P/S (trail)</th>\n",
              "      <th>DPR</th>\n",
              "      <th>DY</th>\n",
              "      <th>CR</th>\n",
              "      <th>Beta</th>\n",
              "      <th>Price</th>\n",
              "      <th>52W Low</th>\n",
              "      <th>52W High</th>\n",
              "    </tr>\n",
              "  </thead>\n",
              "  <tbody>\n",
              "  </tbody>\n",
              "</table>\n",
              "</div>\n",
              "    <div class=\"colab-df-buttons\">\n",
              "\n",
              "  <div class=\"colab-df-container\">\n",
              "    <button class=\"colab-df-convert\" onclick=\"convertToInteractive('df-21f0940b-fbab-4c58-9a67-b7b64c2a0e9e')\"\n",
              "            title=\"Convert this dataframe to an interactive table.\"\n",
              "            style=\"display:none;\">\n",
              "\n",
              "  <svg xmlns=\"http://www.w3.org/2000/svg\" height=\"24px\" viewBox=\"0 -960 960 960\">\n",
              "    <path d=\"M120-120v-720h720v720H120Zm60-500h600v-160H180v160Zm220 220h160v-160H400v160Zm0 220h160v-160H400v160ZM180-400h160v-160H180v160Zm440 0h160v-160H620v160ZM180-180h160v-160H180v160Zm440 0h160v-160H620v160Z\"/>\n",
              "  </svg>\n",
              "    </button>\n",
              "\n",
              "  <style>\n",
              "    .colab-df-container {\n",
              "      display:flex;\n",
              "      gap: 12px;\n",
              "    }\n",
              "\n",
              "    .colab-df-convert {\n",
              "      background-color: #E8F0FE;\n",
              "      border: none;\n",
              "      border-radius: 50%;\n",
              "      cursor: pointer;\n",
              "      display: none;\n",
              "      fill: #1967D2;\n",
              "      height: 32px;\n",
              "      padding: 0 0 0 0;\n",
              "      width: 32px;\n",
              "    }\n",
              "\n",
              "    .colab-df-convert:hover {\n",
              "      background-color: #E2EBFA;\n",
              "      box-shadow: 0px 1px 2px rgba(60, 64, 67, 0.3), 0px 1px 3px 1px rgba(60, 64, 67, 0.15);\n",
              "      fill: #174EA6;\n",
              "    }\n",
              "\n",
              "    .colab-df-buttons div {\n",
              "      margin-bottom: 4px;\n",
              "    }\n",
              "\n",
              "    [theme=dark] .colab-df-convert {\n",
              "      background-color: #3B4455;\n",
              "      fill: #D2E3FC;\n",
              "    }\n",
              "\n",
              "    [theme=dark] .colab-df-convert:hover {\n",
              "      background-color: #434B5C;\n",
              "      box-shadow: 0px 1px 3px 1px rgba(0, 0, 0, 0.15);\n",
              "      filter: drop-shadow(0px 1px 2px rgba(0, 0, 0, 0.3));\n",
              "      fill: #FFFFFF;\n",
              "    }\n",
              "  </style>\n",
              "\n",
              "    <script>\n",
              "      const buttonEl =\n",
              "        document.querySelector('#df-21f0940b-fbab-4c58-9a67-b7b64c2a0e9e button.colab-df-convert');\n",
              "      buttonEl.style.display =\n",
              "        google.colab.kernel.accessAllowed ? 'block' : 'none';\n",
              "\n",
              "      async function convertToInteractive(key) {\n",
              "        const element = document.querySelector('#df-21f0940b-fbab-4c58-9a67-b7b64c2a0e9e');\n",
              "        const dataTable =\n",
              "          await google.colab.kernel.invokeFunction('convertToInteractive',\n",
              "                                                    [key], {});\n",
              "        if (!dataTable) return;\n",
              "\n",
              "        const docLinkHtml = 'Like what you see? Visit the ' +\n",
              "          '<a target=\"_blank\" href=https://colab.research.google.com/notebooks/data_table.ipynb>data table notebook</a>'\n",
              "          + ' to learn more about interactive tables.';\n",
              "        element.innerHTML = '';\n",
              "        dataTable['output_type'] = 'display_data';\n",
              "        await google.colab.output.renderOutput(dataTable, element);\n",
              "        const docLink = document.createElement('div');\n",
              "        docLink.innerHTML = docLinkHtml;\n",
              "        element.appendChild(docLink);\n",
              "      }\n",
              "    </script>\n",
              "  </div>\n",
              "\n",
              "    </div>\n",
              "  </div>\n"
            ]
          },
          "metadata": {},
          "execution_count": 11
        }
      ]
    },
    {
      "cell_type": "markdown",
      "source": [
        "**Add** **styles**\n",
        "A utility method to add styles to the data frame"
      ],
      "metadata": {
        "id": "dVFW3RRjUJE1"
      }
    },
    {
      "cell_type": "code",
      "source": [
        "def make_pretty(styler):\n",
        "  #column formatting\n",
        "  styler.format({'EPS (fwd)':'${:.2f}', 'P/E (fwd)': '{:.2f}', 'PEG': '{:.2f}', 'FCFY': '{:.2f}', 'PB': '{:.2f}', 'ROE': '{:.2f}', 'P/S (trail)': '{:.2f}',\n",
        "                 'DPR': '{:.2f}%', 'DY': '{:.2f}%', 'CR' : '{:.2f}', 'Beta': '{:.2f}', '52W Low': '${:.2f}', 'Price': '${:.2f}', '52W High': '${:.2f}',\n",
        "                 '52w Range': '{:.2f}%'\n",
        "  })\n",
        "  #set the bar visualization\n",
        "  styler.bar(subset = ['52w Range'], align = \"mid\", color = [\"salmon\", \"cornflowerblue\"])\n",
        "\n",
        "  #Grid\n",
        "  styler.set_properties(** {'border': '0.1px solid black'})\n",
        "\n",
        "  #Set background gradients\n",
        "  styler.background_gradient(subset=['EPS (fwd)'], cmap='Greens')\n",
        "  styler.background_gradient(subset=['P/E (fwd)'], cmap='Greens')\n",
        "  styler.background_gradient(subset=['PEG'], cmap='Greens')\n",
        "  styler.background_gradient(subset=['FCFY'],cmap='Greens')\n",
        "  styler.background_gradient(subset=['PB'], cmap='Greens')\n",
        "  styler.background_gradient(subset=['ROE'], cmap='Greens')\n",
        "  styler.background_gradient(subset=['P/S (trail)'], cmap='Greens')\n",
        "  styler.background_gradient(subset=['DPR'], cmap='Greens')\n",
        "  styler.background_gradient(subset=['DY'], cmap='Greens')\n",
        "  styler.background_gradient(subset=['CR'], cmap='Greens')\n",
        "\n",
        "  #No index\n",
        "  styler.hide(axis='index')\n",
        "\n",
        "  #Tool tips\n",
        "  styler.set_tooltips(\n",
        "      ttips, css_class='tt-add',\n",
        "      props=[\n",
        "          ('visibility', 'hidden'),\n",
        "          ('position', 'absolute'),\n",
        "          ('background-color', 'salmon'),\n",
        "          ('color', 'black'),\n",
        "          ('z-index', 1),\n",
        "          ('padding', '3px 3px'),\n",
        "          ('margin', '2px')\n",
        "      ]\n",
        "  )\n",
        "\n",
        "  #Left text alignment for some columns\n",
        "  styler.set_properties(subset=['Symbol', 'Name', 'Industry'], **{'text-align': 'left'})\n",
        "  return styler"
      ],
      "metadata": {
        "id": "kdw_08fNUSmL"
      },
      "execution_count": 12,
      "outputs": []
    },
    {
      "cell_type": "markdown",
      "source": [
        "**Adds** **tool** **tips**\n",
        "a utility method to add tool tips to the data frame created earlier"
      ],
      "metadata": {
        "id": "k1gaMtARcMPP"
      }
    },
    {
      "cell_type": "code",
      "source": [
        "def populate_tt(df, tt_data, col_name):\n",
        "  stats = df[col_name].describe()\n",
        "\n",
        "  per25 = round(stats.loc['25%'], 2)\n",
        "  per50 = round(stats.loc['50%'], 2)\n",
        "  per75 = round(stats.loc['75%'], 2)\n",
        "\n",
        "  #Get positions based on the column name\n",
        "  pos = df.columns.to_list().index(col_name)\n",
        "\n",
        "  for index, row in df.iterrows():\n",
        "    pe = row[col_name]\n",
        "    if pe == stats.loc['min']:\n",
        "      tt_data[index][pos] = 'Lowest'\n",
        "    elif pe == stats.loc['max']:\n",
        "      tt_data[index][pos] = 'Highest'\n",
        "    elif pe <= per25:\n",
        "      tt_data[index][pos] = '25%of companies under {}'.format(per25)\n",
        "    elif pe <=  per50:\n",
        "      tt_data[index][pos] = '50% of companies under {}'.format(per50)\n",
        "    elif pe <= per75:\n",
        "      tt_data[index][pos] = '75% of companies under {}'.format(per75)\n",
        "    else:\n",
        "      tt_data[index][pos] = '25% of companies over {}'.format(per75)\n",
        "\n",
        "    #Add stles and tool tips\n",
        "    #Initialize tool tipdata - each column is set to '' for each row\n",
        "    tt_data = [['' for x in range(len(df.columns))] for y in range(len(df))]\n",
        "\n",
        "    #Gather tool tip data for indicators\n",
        "    populate_tt(df, tt_data, 'EPS (fwd)')\n",
        "    populate_tt(df, tt_data, 'P/E (fwd)')\n",
        "    populate_tt(df, tt_data, 'PEG')\n",
        "    populate_tt(df, tt_data, 'FCFY')\n",
        "    populate_tt(df, tt_data, 'PB')\n",
        "    populate_tt(df, tt_data, 'ROE')\n",
        "    populate_tt(df, tt_data, 'P/S (trail)')\n",
        "    populate_tt(df, tt_data, 'DPR')\n",
        "    populate_tt(df, tt_data, 'DY')\n",
        "    populate_tt(df, tt_data, 'CR')\n",
        "\n",
        "    #Create a tool tip DF\n",
        "    ttips = pd.DataFrame(data=tt_data, columns=df.columns, index=df.index)\n",
        "\n",
        "    #Add tablecaption and styles to DF\n",
        "    df.style.pipe(make_pretty).set_Caption('Fundamental Indicators').set_table_styles(\n",
        "        [{'selector': 'th.col_heading', 'props': ('text_align', 'center')}],\n",
        "         {'selector':'caption', 'props': [('text-align', 'center'),\n",
        "                                           ('font-size', '11pt'), ('font-weight', 'bold')]})\n",
        "\n",
        "\n"
      ],
      "metadata": {
        "id": "NAJIvCSycXUi"
      },
      "execution_count": 17,
      "outputs": []
    }
  ]
}